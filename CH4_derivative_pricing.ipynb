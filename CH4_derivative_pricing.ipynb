{
 "cells": [
  {
   "cell_type": "markdown",
   "id": "470a491d",
   "metadata": {},
   "source": [
    "## 4.2 Zero-Coupon bond Prcing"
   ]
  },
  {
   "cell_type": "markdown",
   "id": "9a831f9e",
   "metadata": {},
   "source": [
    "## 4.3 Forward Rate Agreement Pricing"
   ]
  },
  {
   "cell_type": "markdown",
   "id": "2238127d",
   "metadata": {},
   "source": [
    "## 4.4 Cap and Floor Pricing"
   ]
  }
 ],
 "metadata": {
  "kernelspec": {
   "display_name": "Python 3",
   "language": "python",
   "name": "python3"
  },
  "language_info": {
   "codemirror_mode": {
    "name": "ipython",
    "version": 3
   },
   "file_extension": ".py",
   "mimetype": "text/x-python",
   "name": "python",
   "nbconvert_exporter": "python",
   "pygments_lexer": "ipython3",
   "version": "3.12.1"
  }
 },
 "nbformat": 4,
 "nbformat_minor": 5
}
